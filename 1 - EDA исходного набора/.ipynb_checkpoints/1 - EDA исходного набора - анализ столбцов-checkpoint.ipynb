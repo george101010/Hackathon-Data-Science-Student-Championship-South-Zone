{
 "cells": [
  {
   "cell_type": "code",
   "execution_count": 1,
   "metadata": {},
   "outputs": [],
   "source": [
    "import numpy as np\n",
    "import pandas as pd\n",
    "import matplotlib.pyplot as plt"
   ]
  },
  {
   "cell_type": "code",
   "execution_count": 60,
   "metadata": {},
   "outputs": [],
   "source": [
    "from scipy.stats import normaltest , shapiro ,anderson,chisquare ,kstest  "
   ]
  },
  {
   "cell_type": "code",
   "execution_count": 24,
   "metadata": {},
   "outputs": [],
   "source": [
    "import pylab \n",
    "import scipy.stats as stats"
   ]
  },
  {
   "cell_type": "code",
   "execution_count": 2,
   "metadata": {},
   "outputs": [],
   "source": [
    "pd.options.display.max_rows = 100\n",
    "pd.options.display.max_columns = 100"
   ]
  },
  {
   "cell_type": "markdown",
   "metadata": {},
   "source": [
    "Описание признаков с [сайта соревнования]( https://machinehack.com/hackathons/data_science_student_championship_south_zone/overview ) \n",
    "* 'Property_ID', = id строения\n",
    "* 'room',  количество комнат\n",
    "* 'layout_type'  =( 'BHK' 'RK' ) - тип планировки\n",
    "* 'property_type'  =  ('Apartment' 'Studio Apartment' 'Independent Floor','Independent House' 'Villa' 'Penthouse' )\n",
    "* 'locality',  = Overall Locality description\n",
    "* 'area', = in Square Feet - площидь в квадратных футах\n",
    "* 'furnish_type' = (  'Semi-Furnished' 'Furnished' 'Unfurnished') - тип мебелировки\n",
    "* 'bathroom',: No. of Bathrooms - количество ванных\n",
    "* 'city', : ('Ahmedabad' 'Bangalore' 'Chennai' 'Delhi' 'Hyderabad' 'Kolkata' 'Mumbai' 'Pune') - город\n",
    "* 'parking_spaces',: 1 or 0  : 1 = Yes, 0 = No - наличие парковки (Да \\ нет)\n",
    "* 'floor',: Floor from 0 to 20 - этаж\n",
    "* 'pet_friendly', : 1 or 0  : 1 = Yes, 0 = No - можно ли заселиться с дом. животными (Да \\ нет)\n",
    "* 'power_backup', : 1 or 0  : 1 = Yes, 0 = No - наличие резервного электропитания (Да \\ нет)\n",
    "* 'washing_machine',: 1 or 0  : 1 = Yes, 0 = No - наличие стиральной машины (Да \\ нет)\n",
    "* 'air_conditioner', : 1 or 0  : 1 = Yes, 0 = No - наличие кондиционера (Да \\ нет)\n",
    "* 'geyser/solar',: 1 or 0  : 1 = Yes, 0 = No - наличие источника или солнечной панели (Да \\ нет)\n",
    "* 'security_deposit', Amount of security Deposit - Сумма залогового депозита\n",
    "* 'neighborhood', : Nearest Metro/Bus/Mall in meters - расстояние до ближайшего метро или магазина в метрах\n",
    "* 'CCTV/security' : CCTV available 1 or 0  : 1 = Yes, 0 = No - наличие видеонаблюдения (Да \\ нет)\n",
    "* 'lift': 1 or 0  : 1 = Yes, 0 = No - наличие лифта (Да \\ нет)  \n",
    "* 'price', = Rent in INR - ЦЕЛЕВАЯ ПЕРЕМЕННАЯ - стоимость аренды"
   ]
  },
  {
   "cell_type": "markdown",
   "metadata": {},
   "source": [
    " Из описания следует, что в наборе есть:\n",
    " * Бинарные признаки (9 шт)\n",
    "     + lift\n",
    "     + CCTV/security\n",
    "     + geyser/solar\n",
    "     + air_conditioner\n",
    "     + washing_machine\n",
    "     + power_backup\n",
    "     + pet_friendly\n",
    "     + parking_spaces\n",
    "     + layout_type\n",
    " * Числовые признаки (3 шт)\n",
    "     + area\n",
    "     + security_deposit\n",
    "     + neighborhood\n",
    " * Категориальные признаки (6 шт)\n",
    "     + floor\n",
    "     + furnish_type\n",
    "     + room\n",
    "     + bathroom\n",
    "     + property_type\n",
    "     + city\n",
    " \n",
    "Признаки  floor , room и bathroom отнесены к категориям, поскольку имеют фиксированный набор значений."
   ]
  },
  {
   "cell_type": "markdown",
   "metadata": {},
   "source": [
    "Загрузка данных"
   ]
  },
  {
   "cell_type": "code",
   "execution_count": 3,
   "metadata": {},
   "outputs": [],
   "source": [
    "train = pd.read_csv('train.csv' , sep = ',')\n",
    "test = pd.read_csv('test.csv' , sep = ',')"
   ]
  },
  {
   "cell_type": "code",
   "execution_count": 4,
   "metadata": {},
   "outputs": [],
   "source": [
    "Y = train['price']\n",
    "train = train.drop(['price'] , axis =1).join(Y)"
   ]
  },
  {
   "cell_type": "markdown",
   "metadata": {},
   "source": [
    "Первые 5 строк таблиц"
   ]
  },
  {
   "cell_type": "code",
   "execution_count": 67,
   "metadata": {},
   "outputs": [
    {
     "data": {
      "text/html": [
       "<div>\n",
       "<style scoped>\n",
       "    .dataframe tbody tr th:only-of-type {\n",
       "        vertical-align: middle;\n",
       "    }\n",
       "\n",
       "    .dataframe tbody tr th {\n",
       "        vertical-align: top;\n",
       "    }\n",
       "\n",
       "    .dataframe thead th {\n",
       "        text-align: right;\n",
       "    }\n",
       "</style>\n",
       "<table border=\"1\" class=\"dataframe\">\n",
       "  <thead>\n",
       "    <tr style=\"text-align: right;\">\n",
       "      <th></th>\n",
       "      <th>Property_ID</th>\n",
       "      <th>room</th>\n",
       "      <th>layout_type</th>\n",
       "      <th>property_type</th>\n",
       "      <th>locality</th>\n",
       "      <th>area</th>\n",
       "      <th>furnish_type</th>\n",
       "      <th>bathroom</th>\n",
       "      <th>city</th>\n",
       "      <th>parking_spaces</th>\n",
       "      <th>floor</th>\n",
       "      <th>pet_friendly</th>\n",
       "      <th>power_backup</th>\n",
       "      <th>washing_machine</th>\n",
       "      <th>air_conditioner</th>\n",
       "      <th>geyser/solar</th>\n",
       "      <th>security_deposit</th>\n",
       "      <th>CCTV/security</th>\n",
       "      <th>lift</th>\n",
       "      <th>neighbourhood</th>\n",
       "      <th>price</th>\n",
       "    </tr>\n",
       "  </thead>\n",
       "  <tbody>\n",
       "    <tr>\n",
       "      <th>0</th>\n",
       "      <td>42208</td>\n",
       "      <td>3</td>\n",
       "      <td>BHK</td>\n",
       "      <td>Independent House</td>\n",
       "      <td>Palavakkam</td>\n",
       "      <td>1312</td>\n",
       "      <td>Furnished</td>\n",
       "      <td>2</td>\n",
       "      <td>Chennai</td>\n",
       "      <td>1</td>\n",
       "      <td>1</td>\n",
       "      <td>1</td>\n",
       "      <td>0</td>\n",
       "      <td>0</td>\n",
       "      <td>1</td>\n",
       "      <td>0</td>\n",
       "      <td>302616</td>\n",
       "      <td>0</td>\n",
       "      <td>0</td>\n",
       "      <td>300</td>\n",
       "      <td>33624</td>\n",
       "    </tr>\n",
       "    <tr>\n",
       "      <th>1</th>\n",
       "      <td>90879</td>\n",
       "      <td>1</td>\n",
       "      <td>BHK</td>\n",
       "      <td>Apartment</td>\n",
       "      <td>Manikonda</td>\n",
       "      <td>1474</td>\n",
       "      <td>Unfurnished</td>\n",
       "      <td>2</td>\n",
       "      <td>Hyderabad</td>\n",
       "      <td>0</td>\n",
       "      <td>17</td>\n",
       "      <td>0</td>\n",
       "      <td>1</td>\n",
       "      <td>0</td>\n",
       "      <td>0</td>\n",
       "      <td>1</td>\n",
       "      <td>19310</td>\n",
       "      <td>0</td>\n",
       "      <td>1</td>\n",
       "      <td>1600</td>\n",
       "      <td>9655</td>\n",
       "    </tr>\n",
       "    <tr>\n",
       "      <th>2</th>\n",
       "      <td>99943</td>\n",
       "      <td>3</td>\n",
       "      <td>BHK</td>\n",
       "      <td>Apartment</td>\n",
       "      <td>Jodhpur Park</td>\n",
       "      <td>1837</td>\n",
       "      <td>Semi-Furnished</td>\n",
       "      <td>2</td>\n",
       "      <td>Kolkata</td>\n",
       "      <td>0</td>\n",
       "      <td>10</td>\n",
       "      <td>1</td>\n",
       "      <td>1</td>\n",
       "      <td>1</td>\n",
       "      <td>1</td>\n",
       "      <td>0</td>\n",
       "      <td>118495</td>\n",
       "      <td>0</td>\n",
       "      <td>1</td>\n",
       "      <td>3100</td>\n",
       "      <td>23699</td>\n",
       "    </tr>\n",
       "    <tr>\n",
       "      <th>3</th>\n",
       "      <td>113926</td>\n",
       "      <td>1</td>\n",
       "      <td>BHK</td>\n",
       "      <td>Apartment</td>\n",
       "      <td>Chembur</td>\n",
       "      <td>606</td>\n",
       "      <td>Unfurnished</td>\n",
       "      <td>1</td>\n",
       "      <td>Mumbai</td>\n",
       "      <td>0</td>\n",
       "      <td>18</td>\n",
       "      <td>0</td>\n",
       "      <td>0</td>\n",
       "      <td>0</td>\n",
       "      <td>0</td>\n",
       "      <td>0</td>\n",
       "      <td>37836</td>\n",
       "      <td>0</td>\n",
       "      <td>1</td>\n",
       "      <td>300</td>\n",
       "      <td>6306</td>\n",
       "    </tr>\n",
       "    <tr>\n",
       "      <th>4</th>\n",
       "      <td>185438</td>\n",
       "      <td>1</td>\n",
       "      <td>BHK</td>\n",
       "      <td>Studio Apartment</td>\n",
       "      <td>Kalewadi Pandhapur Road</td>\n",
       "      <td>498</td>\n",
       "      <td>Semi-Furnished</td>\n",
       "      <td>3</td>\n",
       "      <td>Pune</td>\n",
       "      <td>0</td>\n",
       "      <td>14</td>\n",
       "      <td>0</td>\n",
       "      <td>0</td>\n",
       "      <td>1</td>\n",
       "      <td>1</td>\n",
       "      <td>0</td>\n",
       "      <td>72048</td>\n",
       "      <td>0</td>\n",
       "      <td>1</td>\n",
       "      <td>0</td>\n",
       "      <td>12008</td>\n",
       "    </tr>\n",
       "  </tbody>\n",
       "</table>\n",
       "</div>"
      ],
      "text/plain": [
       "   Property_ID  room layout_type      property_type                 locality  \\\n",
       "0        42208     3         BHK  Independent House               Palavakkam   \n",
       "1        90879     1         BHK          Apartment                Manikonda   \n",
       "2        99943     3         BHK          Apartment             Jodhpur Park   \n",
       "3       113926     1         BHK          Apartment                  Chembur   \n",
       "4       185438     1         BHK   Studio Apartment  Kalewadi Pandhapur Road   \n",
       "\n",
       "   area    furnish_type  bathroom       city  parking_spaces  floor  \\\n",
       "0  1312       Furnished         2    Chennai               1      1   \n",
       "1  1474     Unfurnished         2  Hyderabad               0     17   \n",
       "2  1837  Semi-Furnished         2    Kolkata               0     10   \n",
       "3   606     Unfurnished         1     Mumbai               0     18   \n",
       "4   498  Semi-Furnished         3       Pune               0     14   \n",
       "\n",
       "   pet_friendly  power_backup  washing_machine  air_conditioner  geyser/solar  \\\n",
       "0             1             0                0                1             0   \n",
       "1             0             1                0                0             1   \n",
       "2             1             1                1                1             0   \n",
       "3             0             0                0                0             0   \n",
       "4             0             0                1                1             0   \n",
       "\n",
       "   security_deposit  CCTV/security  lift  neighbourhood  price  \n",
       "0            302616              0     0            300  33624  \n",
       "1             19310              0     1           1600   9655  \n",
       "2            118495              0     1           3100  23699  \n",
       "3             37836              0     1            300   6306  \n",
       "4             72048              0     1              0  12008  "
      ]
     },
     "execution_count": 67,
     "metadata": {},
     "output_type": "execute_result"
    }
   ],
   "source": [
    "train.head(5)"
   ]
  },
  {
   "cell_type": "code",
   "execution_count": 23,
   "metadata": {
    "scrolled": true
   },
   "outputs": [
    {
     "data": {
      "text/html": [
       "<div>\n",
       "<style scoped>\n",
       "    .dataframe tbody tr th:only-of-type {\n",
       "        vertical-align: middle;\n",
       "    }\n",
       "\n",
       "    .dataframe tbody tr th {\n",
       "        vertical-align: top;\n",
       "    }\n",
       "\n",
       "    .dataframe thead th {\n",
       "        text-align: right;\n",
       "    }\n",
       "</style>\n",
       "<table border=\"1\" class=\"dataframe\">\n",
       "  <thead>\n",
       "    <tr style=\"text-align: right;\">\n",
       "      <th></th>\n",
       "      <th>Property_ID</th>\n",
       "      <th>room</th>\n",
       "      <th>layout_type</th>\n",
       "      <th>property_type</th>\n",
       "      <th>locality</th>\n",
       "      <th>area</th>\n",
       "      <th>furnish_type</th>\n",
       "      <th>bathroom</th>\n",
       "      <th>city</th>\n",
       "      <th>parking_spaces</th>\n",
       "      <th>floor</th>\n",
       "      <th>pet_friendly</th>\n",
       "      <th>power_backup</th>\n",
       "      <th>washing_machine</th>\n",
       "      <th>air_conditioner</th>\n",
       "      <th>geyser/solar</th>\n",
       "      <th>security_deposit</th>\n",
       "      <th>CCTV/security</th>\n",
       "      <th>lift</th>\n",
       "      <th>neighbourhood</th>\n",
       "      <th>price</th>\n",
       "    </tr>\n",
       "  </thead>\n",
       "  <tbody>\n",
       "    <tr>\n",
       "      <th>0</th>\n",
       "      <td>114342</td>\n",
       "      <td>2</td>\n",
       "      <td>BHK</td>\n",
       "      <td>Independent Floor</td>\n",
       "      <td>Palava</td>\n",
       "      <td>1347</td>\n",
       "      <td>Semi-Furnished</td>\n",
       "      <td>1</td>\n",
       "      <td>Mumbai</td>\n",
       "      <td>0</td>\n",
       "      <td>2</td>\n",
       "      <td>0</td>\n",
       "      <td>1</td>\n",
       "      <td>1</td>\n",
       "      <td>1</td>\n",
       "      <td>0</td>\n",
       "      <td>72624</td>\n",
       "      <td>1</td>\n",
       "      <td>0</td>\n",
       "      <td>900</td>\n",
       "      <td>NaN</td>\n",
       "    </tr>\n",
       "    <tr>\n",
       "      <th>1</th>\n",
       "      <td>88819</td>\n",
       "      <td>1</td>\n",
       "      <td>BHK</td>\n",
       "      <td>Independent House</td>\n",
       "      <td>Somajiguda</td>\n",
       "      <td>634</td>\n",
       "      <td>Semi-Furnished</td>\n",
       "      <td>3</td>\n",
       "      <td>Hyderabad</td>\n",
       "      <td>1</td>\n",
       "      <td>4</td>\n",
       "      <td>0</td>\n",
       "      <td>0</td>\n",
       "      <td>1</td>\n",
       "      <td>1</td>\n",
       "      <td>0</td>\n",
       "      <td>19656</td>\n",
       "      <td>0</td>\n",
       "      <td>0</td>\n",
       "      <td>2500</td>\n",
       "      <td>NaN</td>\n",
       "    </tr>\n",
       "    <tr>\n",
       "      <th>2</th>\n",
       "      <td>85623</td>\n",
       "      <td>1</td>\n",
       "      <td>BHK</td>\n",
       "      <td>Apartment</td>\n",
       "      <td>Toli Chowki</td>\n",
       "      <td>524</td>\n",
       "      <td>Unfurnished</td>\n",
       "      <td>1</td>\n",
       "      <td>Hyderabad</td>\n",
       "      <td>1</td>\n",
       "      <td>3</td>\n",
       "      <td>1</td>\n",
       "      <td>1</td>\n",
       "      <td>0</td>\n",
       "      <td>0</td>\n",
       "      <td>0</td>\n",
       "      <td>7500</td>\n",
       "      <td>0</td>\n",
       "      <td>0</td>\n",
       "      <td>3200</td>\n",
       "      <td>NaN</td>\n",
       "    </tr>\n",
       "    <tr>\n",
       "      <th>3</th>\n",
       "      <td>130856</td>\n",
       "      <td>3</td>\n",
       "      <td>BHK</td>\n",
       "      <td>Apartment</td>\n",
       "      <td>Thane West</td>\n",
       "      <td>1837</td>\n",
       "      <td>Unfurnished</td>\n",
       "      <td>5</td>\n",
       "      <td>Mumbai</td>\n",
       "      <td>1</td>\n",
       "      <td>9</td>\n",
       "      <td>1</td>\n",
       "      <td>0</td>\n",
       "      <td>0</td>\n",
       "      <td>0</td>\n",
       "      <td>1</td>\n",
       "      <td>137646</td>\n",
       "      <td>1</td>\n",
       "      <td>1</td>\n",
       "      <td>1200</td>\n",
       "      <td>NaN</td>\n",
       "    </tr>\n",
       "    <tr>\n",
       "      <th>4</th>\n",
       "      <td>40089</td>\n",
       "      <td>2</td>\n",
       "      <td>BHK</td>\n",
       "      <td>Apartment</td>\n",
       "      <td>Krishnarajapura</td>\n",
       "      <td>1208</td>\n",
       "      <td>Semi-Furnished</td>\n",
       "      <td>2</td>\n",
       "      <td>Bangalore</td>\n",
       "      <td>1</td>\n",
       "      <td>17</td>\n",
       "      <td>0</td>\n",
       "      <td>1</td>\n",
       "      <td>1</td>\n",
       "      <td>1</td>\n",
       "      <td>0</td>\n",
       "      <td>110898</td>\n",
       "      <td>0</td>\n",
       "      <td>1</td>\n",
       "      <td>1000</td>\n",
       "      <td>NaN</td>\n",
       "    </tr>\n",
       "  </tbody>\n",
       "</table>\n",
       "</div>"
      ],
      "text/plain": [
       "   Property_ID  room layout_type      property_type         locality  area  \\\n",
       "0       114342     2         BHK  Independent Floor           Palava  1347   \n",
       "1        88819     1         BHK  Independent House       Somajiguda   634   \n",
       "2        85623     1         BHK          Apartment      Toli Chowki   524   \n",
       "3       130856     3         BHK          Apartment       Thane West  1837   \n",
       "4        40089     2         BHK          Apartment  Krishnarajapura  1208   \n",
       "\n",
       "     furnish_type  bathroom       city  parking_spaces  floor  pet_friendly  \\\n",
       "0  Semi-Furnished         1     Mumbai               0      2             0   \n",
       "1  Semi-Furnished         3  Hyderabad               1      4             0   \n",
       "2     Unfurnished         1  Hyderabad               1      3             1   \n",
       "3     Unfurnished         5     Mumbai               1      9             1   \n",
       "4  Semi-Furnished         2  Bangalore               1     17             0   \n",
       "\n",
       "   power_backup  washing_machine  air_conditioner  geyser/solar  \\\n",
       "0             1                1                1             0   \n",
       "1             0                1                1             0   \n",
       "2             1                0                0             0   \n",
       "3             0                0                0             1   \n",
       "4             1                1                1             0   \n",
       "\n",
       "   security_deposit  CCTV/security  lift  neighbourhood  price  \n",
       "0             72624              1     0            900    NaN  \n",
       "1             19656              0     0           2500    NaN  \n",
       "2              7500              0     0           3200    NaN  \n",
       "3            137646              1     1           1200    NaN  \n",
       "4            110898              0     1           1000    NaN  "
      ]
     },
     "execution_count": 23,
     "metadata": {},
     "output_type": "execute_result"
    }
   ],
   "source": [
    "test.head(5)"
   ]
  },
  {
   "cell_type": "markdown",
   "metadata": {},
   "source": [
    "Информация о типе столбцов"
   ]
  },
  {
   "cell_type": "code",
   "execution_count": 68,
   "metadata": {},
   "outputs": [
    {
     "name": "stdout",
     "output_type": "stream",
     "text": [
      "<class 'pandas.core.frame.DataFrame'>\n",
      "RangeIndex: 134683 entries, 0 to 134682\n",
      "Data columns (total 21 columns):\n",
      " #   Column            Non-Null Count   Dtype \n",
      "---  ------            --------------   ----- \n",
      " 0   Property_ID       134683 non-null  int64 \n",
      " 1   room              134683 non-null  int64 \n",
      " 2   layout_type       134683 non-null  object\n",
      " 3   property_type     134683 non-null  object\n",
      " 4   locality          134683 non-null  object\n",
      " 5   area              134683 non-null  int64 \n",
      " 6   furnish_type      134683 non-null  object\n",
      " 7   bathroom          134683 non-null  int64 \n",
      " 8   city              134683 non-null  object\n",
      " 9   parking_spaces    134683 non-null  int64 \n",
      " 10  floor             134683 non-null  int64 \n",
      " 11  pet_friendly      134683 non-null  int64 \n",
      " 12  power_backup      134683 non-null  int64 \n",
      " 13  washing_machine   134683 non-null  int64 \n",
      " 14  air_conditioner   134683 non-null  int64 \n",
      " 15  geyser/solar      134683 non-null  int64 \n",
      " 16  security_deposit  134683 non-null  int64 \n",
      " 17  CCTV/security     134683 non-null  int64 \n",
      " 18  lift              134683 non-null  int64 \n",
      " 19  neighbourhood     134683 non-null  int64 \n",
      " 20  price             134683 non-null  int64 \n",
      "dtypes: int64(16), object(5)\n",
      "memory usage: 21.6+ MB\n"
     ]
    }
   ],
   "source": [
    "train.info()"
   ]
  },
  {
   "cell_type": "code",
   "execution_count": 20,
   "metadata": {},
   "outputs": [
    {
     "name": "stdout",
     "output_type": "stream",
     "text": [
      "<class 'pandas.core.frame.DataFrame'>\n",
      "RangeIndex: 57722 entries, 0 to 57721\n",
      "Data columns (total 21 columns):\n",
      " #   Column            Non-Null Count  Dtype  \n",
      "---  ------            --------------  -----  \n",
      " 0   Property_ID       57722 non-null  int64  \n",
      " 1   room              57722 non-null  int64  \n",
      " 2   layout_type       57722 non-null  object \n",
      " 3   property_type     57722 non-null  object \n",
      " 4   locality          57722 non-null  object \n",
      " 5   area              57722 non-null  int64  \n",
      " 6   furnish_type      57722 non-null  object \n",
      " 7   bathroom          57722 non-null  int64  \n",
      " 8   city              57722 non-null  object \n",
      " 9   parking_spaces    57722 non-null  int64  \n",
      " 10  floor             57722 non-null  int64  \n",
      " 11  pet_friendly      57722 non-null  int64  \n",
      " 12  power_backup      57722 non-null  int64  \n",
      " 13  washing_machine   57722 non-null  int64  \n",
      " 14  air_conditioner   57722 non-null  int64  \n",
      " 15  geyser/solar      57722 non-null  int64  \n",
      " 16  security_deposit  57722 non-null  int64  \n",
      " 17  CCTV/security     57722 non-null  int64  \n",
      " 18  lift              57722 non-null  int64  \n",
      " 19  neighbourhood     57722 non-null  int64  \n",
      " 20  price             0 non-null      float64\n",
      "dtypes: float64(1), int64(15), object(5)\n",
      "memory usage: 9.2+ MB\n"
     ]
    }
   ],
   "source": [
    "test.info()"
   ]
  },
  {
   "cell_type": "markdown",
   "metadata": {},
   "source": [
    "Проверка на содержание NULL и NA значений"
   ]
  },
  {
   "cell_type": "code",
   "execution_count": 69,
   "metadata": {},
   "outputs": [
    {
     "data": {
      "text/plain": [
       "Property_ID         0\n",
       "room                0\n",
       "layout_type         0\n",
       "property_type       0\n",
       "locality            0\n",
       "area                0\n",
       "furnish_type        0\n",
       "bathroom            0\n",
       "city                0\n",
       "parking_spaces      0\n",
       "floor               0\n",
       "pet_friendly        0\n",
       "power_backup        0\n",
       "washing_machine     0\n",
       "air_conditioner     0\n",
       "geyser/solar        0\n",
       "security_deposit    0\n",
       "CCTV/security       0\n",
       "lift                0\n",
       "neighbourhood       0\n",
       "price               0\n",
       "dtype: int64"
      ]
     },
     "execution_count": 69,
     "metadata": {},
     "output_type": "execute_result"
    }
   ],
   "source": [
    "train.isnull().sum()"
   ]
  },
  {
   "cell_type": "code",
   "execution_count": 22,
   "metadata": {},
   "outputs": [
    {
     "data": {
      "text/plain": [
       "Property_ID             0\n",
       "room                    0\n",
       "layout_type             0\n",
       "property_type           0\n",
       "locality                0\n",
       "area                    0\n",
       "furnish_type            0\n",
       "bathroom                0\n",
       "city                    0\n",
       "parking_spaces          0\n",
       "floor                   0\n",
       "pet_friendly            0\n",
       "power_backup            0\n",
       "washing_machine         0\n",
       "air_conditioner         0\n",
       "geyser/solar            0\n",
       "security_deposit        0\n",
       "CCTV/security           0\n",
       "lift                    0\n",
       "neighbourhood           0\n",
       "price               57722\n",
       "dtype: int64"
      ]
     },
     "execution_count": 22,
     "metadata": {},
     "output_type": "execute_result"
    }
   ],
   "source": [
    "test.isnull().sum()"
   ]
  },
  {
   "cell_type": "markdown",
   "metadata": {},
   "source": [
    "Анализ состава категориальных столбцов в TRAIN и TEST"
   ]
  },
  {
   "cell_type": "code",
   "execution_count": 48,
   "metadata": {},
   "outputs": [],
   "source": [
    "#функция для сопоставления количеств значений в train и test\n",
    "#tr - набор train\n",
    "#ts - набор test\n",
    "#col - название столбца \n",
    "\n",
    "def table_train_test(tr , ts , col):\n",
    "    tr_val_count = tr[col].value_counts()\n",
    "    ts_val_count = ts[col].value_counts()\n",
    "    tr_precent = np.round(tr[col].value_counts() / tr[col].value_counts().sum() , 3 )\n",
    "    ts_precent = np.round(ts[col].value_counts() / ts[col].value_counts().sum() , 3 )\n",
    "    percent_diff = np.abs(tr_precent - ts_precent)\n",
    "    val_count = pd.concat( [tr_val_count , \n",
    "                            ts_val_count , \n",
    "                            tr_precent ,\n",
    "                            ts_precent ,\n",
    "                           percent_diff] , axis =1).fillna(0)\n",
    "    val_count.columns = ['Train' , 'Test' ,'Train %' , 'Test %' , 'Разница %'  ]\n",
    "    return val_count"
   ]
  },
  {
   "cell_type": "code",
   "execution_count": 50,
   "metadata": {},
   "outputs": [
    {
     "name": "stdout",
     "output_type": "stream",
     "text": [
      "Признак   room\n",
      "   Train   Test  Train %  Test %  Разница %\n",
      "1  47908  20532    0.356   0.356      0.000\n",
      "2  43235  18391    0.321   0.319      0.002\n",
      "3  36125  15560    0.268   0.270      0.002\n",
      "4   6465   2841    0.048   0.049      0.001\n",
      "5    950    398    0.007   0.007      0.000\n",
      "============================================\n",
      "Признак   layout_type\n",
      "      Train   Test  Train %  Test %  Разница %\n",
      "BHK  114684  49353    0.852   0.855      0.003\n",
      "RK    19999   8369    0.148   0.145      0.003\n",
      "============================================\n",
      "Признак   property_type\n",
      "                   Train   Test  Train %  Test %  Разница %\n",
      "Apartment          86819  37272    0.645   0.646      0.001\n",
      "Independent Floor  25850  10935    0.192   0.189      0.003\n",
      "Independent House  13408   5765    0.100   0.100      0.000\n",
      "Studio Apartment    5723   2524    0.042   0.044      0.002\n",
      "Villa               2391   1010    0.018   0.017      0.001\n",
      "Penthouse            492    216    0.004   0.004      0.000\n",
      "============================================\n",
      "Признак   locality\n",
      "                                  Train    Test  Train %  Test %  Разница %\n",
      "Thane West                       3127.0  1341.0    0.023   0.023      0.000\n",
      "Chembur                          2461.0  1081.0    0.018   0.019      0.001\n",
      "Andheri East                     2377.0  1034.0    0.018   0.018      0.000\n",
      "Bopal                            2054.0   867.0    0.015   0.015      0.000\n",
      "Kharghar                         1819.0   790.0    0.014   0.014      0.000\n",
      "...                                 ...     ...      ...     ...        ...\n",
      "Bidhan Pally                        0.0     1.0    0.000   0.000      0.000\n",
      "Hasmathpet                          0.0     1.0    0.000   0.000      0.000\n",
      "Raja Rajeshwari Nagar 5th Stage     0.0     1.0    0.000   0.000      0.000\n",
      "Kondhwa Budrukh                     0.0     1.0    0.000   0.000      0.000\n",
      "NIgam Society                       0.0     1.0    0.000   0.000      0.000\n",
      "\n",
      "[4140 rows x 5 columns]\n",
      "============================================\n",
      "Признак   furnish_type\n",
      "                Train   Test  Train %  Test %  Разница %\n",
      "Semi-Furnished  63646  27278    0.473   0.473      0.000\n",
      "Unfurnished     41398  17689    0.307   0.306      0.001\n",
      "Furnished       29639  12755    0.220   0.221      0.001\n",
      "============================================\n",
      "Признак   bathroom\n",
      "   Train   Test  Train %  Test %  Разница %\n",
      "2  71779  30914    0.533   0.536      0.003\n",
      "1  34560  14742    0.257   0.255      0.002\n",
      "3  18457   7813    0.137   0.135      0.002\n",
      "4   8105   3427    0.060   0.059      0.001\n",
      "5   1782    826    0.013   0.014      0.001\n",
      "============================================\n",
      "Признак   city\n",
      "           Train   Test  Train %  Test %  Разница %\n",
      "Mumbai     46910  20335    0.348   0.352      0.004\n",
      "Delhi      22826   9670    0.169   0.168      0.001\n",
      "Bangalore  16092   6893    0.119   0.119      0.000\n",
      "Pune       15713   6830    0.117   0.118      0.001\n",
      "Ahmedabad  12976   5393    0.096   0.093      0.003\n",
      "Hyderabad   7334   3171    0.054   0.055      0.001\n",
      "Kolkata     6795   2846    0.050   0.049      0.001\n",
      "Chennai     6037   2584    0.045   0.045      0.000\n",
      "============================================\n",
      "Признак   parking_spaces\n",
      "   Train   Test  Train %  Test %  Разница %\n",
      "1  71973  30950    0.534   0.536      0.002\n",
      "0  62710  26772    0.466   0.464      0.002\n",
      "============================================\n",
      "Признак   floor\n",
      "    Train  Test  Train %  Test %  Разница %\n",
      "0    4747  1997    0.035   0.035      0.000\n",
      "1    7087  3090    0.053   0.054      0.001\n",
      "2   12623  5442    0.094   0.094      0.000\n",
      "3    8864  3837    0.066   0.066      0.000\n",
      "4    8295  3417    0.062   0.059      0.003\n",
      "5    6959  2996    0.052   0.052      0.000\n",
      "6    5857  2583    0.043   0.045      0.002\n",
      "7    4935  2096    0.037   0.036      0.001\n",
      "8    5257  2250    0.039   0.039      0.000\n",
      "9    5715  2502    0.042   0.043      0.001\n",
      "10   6319  2665    0.047   0.046      0.001\n",
      "11   6229  2579    0.046   0.045      0.001\n",
      "12   5925  2575    0.044   0.045      0.001\n",
      "13   5791  2405    0.043   0.042      0.001\n",
      "14   5161  2293    0.038   0.040      0.002\n",
      "15   7020  2977    0.052   0.052      0.000\n",
      "16   6456  2846    0.048   0.049      0.001\n",
      "17   8102  3516    0.060   0.061      0.001\n",
      "18   6121  2628    0.045   0.046      0.001\n",
      "19   7220  3028    0.054   0.052      0.002\n",
      "============================================\n",
      "Признак   pet_friendly\n",
      "   Train   Test  Train %  Test %  Разница %\n",
      "1  71059  30269    0.528   0.524      0.004\n",
      "0  63624  27453    0.472   0.476      0.004\n",
      "============================================\n",
      "Признак   power_backup\n",
      "   Train   Test  Train %  Test %  Разница %\n",
      "0  89288  38058    0.663   0.659      0.004\n",
      "1  45395  19664    0.337   0.341      0.004\n",
      "============================================\n",
      "Признак   washing_machine\n",
      "   Train   Test  Train %  Test %  Разница %\n",
      "0  71037  30444    0.527   0.527        0.0\n",
      "1  63646  27278    0.473   0.473        0.0\n",
      "============================================\n",
      "Признак   air_conditioner\n",
      "   Train   Test  Train %  Test %  Разница %\n",
      "1  93285  40033    0.693   0.694      0.001\n",
      "0  41398  17689    0.307   0.306      0.001\n",
      "============================================\n",
      "Признак   geyser/solar\n",
      "   Train   Test  Train %  Test %  Разница %\n",
      "0  75404  32240     0.56   0.559      0.001\n",
      "1  59279  25482     0.44   0.441      0.001\n",
      "============================================\n",
      "Признак   CCTV/security\n",
      "   Train   Test  Train %  Test %  Разница %\n",
      "1  75670  32465    0.562   0.562        0.0\n",
      "0  59013  25257    0.438   0.438        0.0\n",
      "============================================\n",
      "Признак   lift\n",
      "   Train   Test  Train %  Test %  Разница %\n",
      "1  80251  34360    0.596   0.595      0.001\n",
      "0  54432  23362    0.404   0.405      0.001\n",
      "============================================\n",
      "Признак   neighbourhood\n",
      "      Train  Test  Train %  Test %  Разница %\n",
      "0      1916   843    0.014   0.015      0.001\n",
      "100    5212  2267    0.039   0.039      0.000\n",
      "200    2257   968    0.017   0.017      0.000\n",
      "300    2556  1111    0.019   0.019      0.000\n",
      "400    2658  1206    0.020   0.021      0.001\n",
      "500    2504  1049    0.019   0.018      0.001\n",
      "600    2620  1149    0.019   0.020      0.001\n",
      "700    2962  1239    0.022   0.021      0.001\n",
      "800    2906  1320    0.022   0.023      0.001\n",
      "900    3160  1379    0.023   0.024      0.001\n",
      "1000   3311  1399    0.025   0.024      0.001\n",
      "1100   3286  1424    0.024   0.025      0.001\n",
      "1200   3517  1587    0.026   0.027      0.001\n",
      "1300   3682  1608    0.027   0.028      0.001\n",
      "1400   3908  1653    0.029   0.029      0.000\n",
      "1500   3868  1676    0.029   0.029      0.000\n",
      "1600   4038  1729    0.030   0.030      0.000\n",
      "1700   4038  1670    0.030   0.029      0.001\n",
      "1800   4096  1748    0.030   0.030      0.000\n",
      "1900   3854  1646    0.029   0.029      0.000\n",
      "2000   3790  1574    0.028   0.027      0.001\n",
      "2100   3377  1496    0.025   0.026      0.001\n",
      "2200   3339  1367    0.025   0.024      0.001\n",
      "2300   3224  1415    0.024   0.025      0.001\n",
      "2400   3084  1299    0.023   0.023      0.000\n",
      "2500   2848  1239    0.021   0.021      0.000\n",
      "2600   2904  1218    0.022   0.021      0.001\n",
      "2700   3080  1307    0.023   0.023      0.000\n",
      "2800   3093  1310    0.023   0.023      0.000\n",
      "2900   3132  1258    0.023   0.022      0.001\n",
      "3000   3081  1306    0.023   0.023      0.000\n",
      "3100   3016  1288    0.022   0.022      0.000\n",
      "3200   3010  1228    0.022   0.021      0.001\n",
      "3300   3049  1247    0.023   0.022      0.001\n",
      "3400   3338  1437    0.025   0.025      0.000\n",
      "3500   3550  1480    0.026   0.026      0.000\n",
      "3600   3658  1590    0.027   0.028      0.001\n",
      "3700   3296  1435    0.024   0.025      0.001\n",
      "3800   2838  1226    0.021   0.021      0.000\n",
      "3900   5624  2472    0.042   0.043      0.001\n",
      "4000   2003   859    0.015   0.015      0.000\n",
      "============================================\n"
     ]
    }
   ],
   "source": [
    "#categor_cols = train.dtypes[ (train.dtypes !='int64') &  (train.dtypes.index !='locality')].index\n",
    "categor_cols = train.columns.drop(['Property_ID','area','price' ,'security_deposit'])\n",
    " \n",
    "for I in categor_cols:\n",
    "    print('Признак  ',I)\n",
    "    print(table_train_test(train, test , I ) )\n",
    "    print('============================================')"
   ]
  },
  {
   "cell_type": "markdown",
   "metadata": {},
   "source": [
    "Из таблиц выше видно, что процентный состав значений переменных одинаков, что указывает на хорошее разделение на train и test"
   ]
  },
  {
   "cell_type": "markdown",
   "metadata": {},
   "source": [
    "В наборе есть 2 колонки с большим количеством уникальных значений - Property_ID и locality. \n",
    "\n",
    "Проверка на пересечение множеств значений в train и test"
   ]
  },
  {
   "cell_type": "code",
   "execution_count": 65,
   "metadata": {},
   "outputs": [
    {
     "data": {
      "text/plain": [
       "False"
      ]
     },
     "execution_count": 65,
     "metadata": {},
     "output_type": "execute_result"
    }
   ],
   "source": [
    " ( set( test['Property_ID']) ).issubset(set( train['Property_ID']) )"
   ]
  },
  {
   "cell_type": "code",
   "execution_count": 77,
   "metadata": {},
   "outputs": [
    {
     "data": {
      "text/plain": [
       "False"
      ]
     },
     "execution_count": 77,
     "metadata": {},
     "output_type": "execute_result"
    }
   ],
   "source": [
    " ( set( test['locality']) ).issubset(set( train['locality']) )"
   ]
  },
  {
   "cell_type": "markdown",
   "metadata": {},
   "source": [
    "Колонки Property_ID и locality не имеют общих значений  в train и test"
   ]
  },
  {
   "cell_type": "markdown",
   "metadata": {},
   "source": [
    "Анализ числовых столбцов - Property_ID , area , neighborhood , price"
   ]
  },
  {
   "cell_type": "code",
   "execution_count": 51,
   "metadata": {},
   "outputs": [
    {
     "data": {
      "image/png": "[encoded data removed]",
      "text/plain": [
       "<Figure size 1080x360 with 3 Axes>"
      ]
     },
     "metadata": {
      "needs_background": "light"
     },
     "output_type": "display_data"
    }
   ],
   "source": [
    "num_cols = ['Property_ID' , 'area' ,'security_deposit' ]\n",
    "fig , ax = plt.subplots(  1,len(num_cols) , figsize=(15,5) )\n",
    "fig.suptitle('Гистограммы для признаков Property_ID , area ,  security_deposit .')\n",
    " \n",
    "for i in range( len(num_cols)):\n",
    "    col = num_cols[i]\n",
    "    ax[ i ].grid(True)\n",
    "    ax[ i ].hist( train[col] ,  bins = 20)\n",
    "    ax[ i ].hist( test[col] , color = 'red', bins = 20)\n",
    "    ax[ i ].legend( ['Train','Test'])\n",
    "    ax[ i ].set_title ( 'Гистограмма столбца '+col+' в train и test' ) \n"
   ]
  },
  {
   "cell_type": "markdown",
   "metadata": {},
   "source": [
    "Из гистограмм видно, что распределения признаков в Train и Test совпадают\n",
    "\n",
    "Признаки  area ,  security_deposit сильно скошены влево."
   ]
  },
  {
   "cell_type": "code",
   "execution_count": null,
   "metadata": {},
   "outputs": [],
   "source": []
  },
  {
   "cell_type": "markdown",
   "metadata": {},
   "source": [
    "Анализ столбца Price"
   ]
  },
  {
   "cell_type": "code",
   "execution_count": 108,
   "metadata": {},
   "outputs": [
    {
     "data": {
      "text/plain": [
       "Text(0.5, 1.0, 'Гистограмма столбца price в train')"
      ]
     },
     "execution_count": 108,
     "metadata": {},
     "output_type": "execute_result"
    },
    {
     "data": {
      "image/png": "[encoded data removed]",
      "text/plain": [
       "<Figure size 720x360 with 2 Axes>"
      ]
     },
     "metadata": {
      "needs_background": "light"
     },
     "output_type": "display_data"
    }
   ],
   "source": [
    "fig , ax = plt.subplots(  1,2 , figsize=(10,5) )\n",
    "fig.suptitle(' .')\n",
    "col = 'price'\n",
    " \n",
    "ax[0].grid(True)\n",
    "ax[0].hist( train[col] ,  bins = 20)\n",
    " \n",
    "ax[0].legend( ['Train' ])\n",
    "ax[0].set_title('Гистограмма столбца '+col+' в train')\n",
    "\n",
    " \n",
    "ax[1].grid(True)\n",
    "ax[1].boxplot( train[col]  )\n",
    " \n",
    "ax[1].legend( ['Train' ])\n",
    "ax[1].set_title('Гистограмма столбца '+col+' в train')"
   ]
  },
  {
   "cell_type": "markdown",
   "metadata": {},
   "source": [
    "Из гистограммы видно, что цена сильно скошена влево.\n",
    "\n",
    "Проверим, можно ли через алгебраические преобразования сделать распеределение колоколообразным."
   ]
  },
  {
   "cell_type": "code",
   "execution_count": 71,
   "metadata": {},
   "outputs": [
    {
     "data": {
      "text/plain": [
       "Text(0.5, 1.0, 'Boxplot столбца price в train')"
      ]
     },
     "execution_count": 71,
     "metadata": {},
     "output_type": "execute_result"
    },
    {
     "data": {
      "image/png": "[encoded data removed]",
      "text/plain": [
       "<Figure size 720x360 with 2 Axes>"
      ]
     },
     "metadata": {
      "needs_background": "light"
     },
     "output_type": "display_data"
    }
   ],
   "source": [
    "Y_edited  = np.log1p( train['price'])\n",
    "fig , ax = plt.subplots(  1,2 , figsize=(10,5) )\n",
    "fig.suptitle(' .')\n",
    "col = 'price'\n",
    " \n",
    "ax[0].grid(True)\n",
    "ax[0].hist(Y_edited ,  bins = 20)\n",
    " \n",
    "ax[0].legend( ['Train' ])\n",
    "ax[0].set_title('Гистограмма столбца '+col+' в train')\n",
    "\n",
    " \n",
    "ax[1].grid(True)\n",
    "ax[1].boxplot( Y_edited  )\n",
    " \n",
    "ax[1].legend( ['Train' ])\n",
    "ax[1].set_title('Boxplot столбца '+col+' в train')"
   ]
  },
  {
   "cell_type": "code",
   "execution_count": 25,
   "metadata": {},
   "outputs": [
    {
     "data": {
      "image/png": "[encoded data removed]",
      "text/plain": [
       "<Figure size 432x288 with 1 Axes>"
      ]
     },
     "metadata": {
      "needs_background": "light"
     },
     "output_type": "display_data"
    }
   ],
   "source": [
    "stats.probplot(np.log1p( train['price'] ), dist=\"norm\", plot=pylab)\n",
    "pylab.show()"
   ]
  },
  {
   "cell_type": "markdown",
   "metadata": {},
   "source": [
    "Логарифмирование дало колоколообразное распределение. Но его хвосты отклоняются.\n",
    "\n",
    "При помощи тестов нужно проверить его на нормальность"
   ]
  },
  {
   "cell_type": "code",
   "execution_count": 29,
   "metadata": {},
   "outputs": [
    {
     "name": "stdout",
     "output_type": "stream",
     "text": [
      "Pval =  1.0  Распределение ненормальное\n"
     ]
    }
   ],
   "source": [
    "#  тест хи-квадрат\n",
    "stat , pv = chisquare(np.log1p( train['price']))\n",
    "if pv < 0.05:\n",
    "    print('Pval = ',pv  ,' Распределение нормальное')\n",
    "else:\n",
    "    print('Pval = ',pv  ,' Распределение ненормальное')"
   ]
  },
  {
   "cell_type": "code",
   "execution_count": 30,
   "metadata": {},
   "outputs": [
    {
     "name": "stdout",
     "output_type": "stream",
     "text": [
      "Pval =  0.0  Распределение нормальное\n"
     ]
    }
   ],
   "source": [
    "# тест Пирсона и Лиагостино\n",
    "stat , pv =  normaltest(np.log1p( train['price']))\n",
    "if pv < 0.05:\n",
    "    print('Pval = ',pv  ,' Распределение нормальное')\n",
    "else:\n",
    "    print('Pval = ',pv  ,' Распределение ненормальное')"
   ]
  },
  {
   "cell_type": "code",
   "execution_count": 31,
   "metadata": {},
   "outputs": [
    {
     "name": "stdout",
     "output_type": "stream",
     "text": [
      "Pval =  0.0  Распределение нормальное\n"
     ]
    },
    {
     "name": "stderr",
     "output_type": "stream",
     "text": [
      "c:\\users\\gosha\\appdata\\local\\programs\\python\\python38\\lib\\site-packages\\scipy\\stats\\morestats.py:1681: UserWarning: p-value may not be accurate for N > 5000.\n",
      "  warnings.warn(\"p-value may not be accurate for N > 5000.\")\n"
     ]
    }
   ],
   "source": [
    "#тест Шапиро-Уилкса\n",
    "stat , pv = shapiro(np.log1p( train['price']))\n",
    "if pv < 0.05:\n",
    "    print('Pval = ',pv  ,' Распределение нормальное')\n",
    "else:\n",
    "    print('Pval = ',pv  ,' Распределение ненормальное')"
   ]
  },
  {
   "cell_type": "code",
   "execution_count": 36,
   "metadata": {},
   "outputs": [
    {
     "name": "stdout",
     "output_type": "stream",
     "text": [
      "Pval =  0.0  Распределение нормальное\n"
     ]
    }
   ],
   "source": [
    "# тест Колмогорова - Смирнова\n",
    "stat , pv = kstest(np.log1p( train['price']), 'norm')\n",
    "if pv < 0.05:\n",
    "    print('Pval = ',pv  ,' Распределение нормальное')\n",
    "else:\n",
    "    print('Pval = ',pv  ,' Распределение ненормальное')"
   ]
  },
  {
   "cell_type": "markdown",
   "metadata": {},
   "source": [
    "Большая часть тестов показала, что распределение нормальное."
   ]
  },
  {
   "cell_type": "markdown",
   "metadata": {},
   "source": [
    "Аналогично можно поступить с признаками  area ,  security_deposit. Слелать их распределения колоколообразными."
   ]
  },
  {
   "cell_type": "code",
   "execution_count": 77,
   "metadata": {},
   "outputs": [
    {
     "data": {
      "text/plain": [
       "Text(0.5, 1.0, 'Boxplot столбца security_deposit в train')"
      ]
     },
     "execution_count": 77,
     "metadata": {},
     "output_type": "execute_result"
    },
    {
     "data": {
      "image/png": "[encoded data removed]",
      "text/plain": [
       "<Figure size 720x720 with 4 Axes>"
      ]
     },
     "metadata": {
      "needs_background": "light"
     },
     "output_type": "display_data"
    }
   ],
   "source": [
    "fig , ax = plt.subplots(  2,2 , figsize=(10,10) )\n",
    "fig.suptitle('Гистограммы логарифмов признаков  area , security_deposit')\n",
    "col = 'area'\n",
    " \n",
    "ax[0][0].grid(True)\n",
    "ax[0][0].hist(np.log1p( train[col] ) ,  bins = 20)\n",
    " \n",
    "ax[0][0].legend( ['Train' ])\n",
    "ax[0][0].set_title('Гистограмма столбца '+col+' в train')\n",
    "\n",
    " \n",
    "ax[0][1].grid(True)\n",
    "ax[0][1].boxplot( np.log1p( train[col] ) )\n",
    " \n",
    "ax[0][1].legend( ['Train' ])\n",
    "ax[0][1].set_title('Boxplot столбца '+col+' в train')\n",
    " \n",
    " \n",
    "\n",
    "col = 'security_deposit'\n",
    " \n",
    "ax[1][0].grid(True)\n",
    "ax[1][0].hist(np.log1p( train[col] ) ,  bins = 20)\n",
    " \n",
    "ax[1][0].legend( ['Train' ])\n",
    "ax[1][0].set_title('Гистограмма столбца '+col+' в train')\n",
    "\n",
    " \n",
    "ax[1][1].grid(True)\n",
    "ax[1][1].boxplot( np.log1p( train[col] ) )\n",
    " \n",
    "ax[1][1].legend( ['Train' ])\n",
    "ax[1][1].set_title('Boxplot столбца '+col+' в train')\n",
    " "
   ]
  },
  {
   "cell_type": "code",
   "execution_count": 80,
   "metadata": {},
   "outputs": [
    {
     "data": {
      "text/plain": [
       "((array([-4.41092514, -4.21493941, -4.1084394 , ...,  4.1084394 ,\n",
       "          4.21493941,  4.41092514]),\n",
       "  array([4.40671925, 4.51085951, 4.55387689, ..., 9.51014862, 9.5277754 ,\n",
       "         9.54273287])),\n",
       " (0.5937664959325853, 7.070571881417375, 0.9730104059284146))"
      ]
     },
     "execution_count": 80,
     "metadata": {},
     "output_type": "execute_result"
    },
    {
     "data": {
      "image/png": "[encoded data removed]",
      "text/plain": [
       "<Figure size 432x288 with 1 Axes>"
      ]
     },
     "metadata": {
      "needs_background": "light"
     },
     "output_type": "display_data"
    }
   ],
   "source": [
    "# QQ-plot для признака area \n",
    "stats.probplot(np.log1p( train[ 'area'] ), dist=\"norm\", plot=pylab)\n",
    " "
   ]
  },
  {
   "cell_type": "code",
   "execution_count": 79,
   "metadata": {},
   "outputs": [
    {
     "data": {
      "text/plain": [
       "((array([-4.41092514, -4.21493941, -4.1084394 , ...,  4.1084394 ,\n",
       "          4.21493941,  4.41092514]),\n",
       "  array([ 8.06495089,  8.11102784,  8.12710919, ..., 15.8504124 ,\n",
       "         15.86901371, 15.88752219])),\n",
       " (1.0856832503053808, 11.641156196218486, 0.9975382694699071))"
      ]
     },
     "execution_count": 79,
     "metadata": {},
     "output_type": "execute_result"
    },
    {
     "data": {
      "image/png": "[encoded data removed]",
      "text/plain": [
       "<Figure size 432x288 with 1 Axes>"
      ]
     },
     "metadata": {
      "needs_background": "light"
     },
     "output_type": "display_data"
    }
   ],
   "source": [
    "# QQ-plot для признака security_deposit\n",
    "stats.probplot(np.log1p( train['security_deposit'] ), dist=\"norm\", plot=pylab)"
   ]
  },
  {
   "cell_type": "markdown",
   "metadata": {},
   "source": [
    "Проверим тестом Колмогорова-Смирнова нормальность распределений"
   ]
  },
  {
   "cell_type": "code",
   "execution_count": 83,
   "metadata": {},
   "outputs": [
    {
     "name": "stdout",
     "output_type": "stream",
     "text": [
      "Результат теста Колмогорова-Смирнова для признака security_deposit\n",
      "Pval =  0.0  Распределение нормальное\n",
      "Результат теста Колмогорова-Смирнова для признака area\n",
      "Pval =  0.0  Распределение нормальное\n"
     ]
    }
   ],
   "source": [
    "col ='security_deposit'\n",
    "print('Результат теста Колмогорова-Смирнова для признака '+col)\n",
    "stat , pv = kstest(np.log1p( train[ col]), 'norm')\n",
    "if pv < 0.05:\n",
    "    print('Pval = ',pv  ,' Распределение нормальное')\n",
    "else:\n",
    "    print('Pval = ',pv  ,' Распределение ненормальное')\n",
    "    \n",
    "col ='area'\n",
    "print('Результат теста Колмогорова-Смирнова для признака '+col)\n",
    "stat , pv = kstest(np.log1p( train[ col ]), 'norm')\n",
    "if pv < 0.05:\n",
    "    print('Pval = ',pv  ,' Распределение нормальное')\n",
    "else:\n",
    "    print('Pval = ',pv  ,' Распределение ненормальное')"
   ]
  },
  {
   "cell_type": "markdown",
   "metadata": {},
   "source": [
    "Резюме по набору данных.\n",
    "\n",
    "Датасет имеет 17 категориальных признака и 2 числовых. Все числовые признаки и целевую переменную можно привести к нормальному распределнию путем логарифмирования. \n",
    "Есть столбец locality - из которого можно извлечь информацию об объекте (возможно гео-координаты)"
   ]
  },
  {
   "cell_type": "code",
   "execution_count": null,
   "metadata": {},
   "outputs": [],
   "source": []
  }
 ],
 "metadata": {
  "kernelspec": {
   "display_name": "Python 3",
   "language": "python",
   "name": "python3"
  },
  "language_info": {
   "codemirror_mode": {
    "name": "ipython",
    "version": 3
   },
   "file_extension": ".py",
   "mimetype": "text/x-python",
   "name": "python",
   "nbconvert_exporter": "python",
   "pygments_lexer": "ipython3",
   "version": "3.8.6rc1"
  }
 },
 "nbformat": 4,
 "nbformat_minor": 4
}
